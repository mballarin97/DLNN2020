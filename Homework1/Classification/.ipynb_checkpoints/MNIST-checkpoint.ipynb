{
 "cells": [
  {
   "cell_type": "code",
   "execution_count": 1,
   "metadata": {
    "ExecuteTime": {
     "end_time": "2020-11-27T10:35:46.431688Z",
     "start_time": "2020-11-27T10:35:46.420556Z"
    }
   },
   "outputs": [],
   "source": [
    "# Pytorch\n",
    "import torch.nn as nn\n",
    "import torch\n",
    "import torch.nn.functional as F\n",
    "import torch.optim as optim\n",
    "import torch.nn.utils.prune as prune\n",
    "from torch.utils.data import Dataset, DataLoader, Subset, ConcatDataset\n",
    "from torchvision import transforms\n",
    "from torchvision.datasets import MNIST\n",
    "# Miscellaneus\n",
    "import numpy as np              # Because u can't use python without numpy\n",
    "from scipy.stats import loguniform # Distribution for gridsearch\n",
    "import os                       # To check for GPU\n",
    "from tqdm import tqdm           # Loop track bar\n",
    "import matplotlib.pyplot as plt # Plotting\n",
    "from functools import partial   # Partial functions"
   ]
  },
  {
   "cell_type": "code",
   "execution_count": 2,
   "metadata": {
    "ExecuteTime": {
     "end_time": "2020-11-27T10:35:49.505672Z",
     "start_time": "2020-11-27T10:35:49.174366Z"
    }
   },
   "outputs": [],
   "source": [
    "class Net(nn.Module):\n",
    "    def __init__(self, dropout=0):\n",
    "        super(Net, self).__init__()\n",
    "        self.conv1 = nn.Conv2d(1, 32, 5, stride=1, padding=2)  # 1 input channel, 32 output\n",
    "        self.pool = nn.MaxPool2d(2, 2)    # Divide by two the dimension of the image\n",
    "        self.conv2 = nn.Conv2d(32, 64, 5, stride=1, padding=2) # 32 channel -> 64 channels\n",
    "        self.fc1 = nn.Linear(7*7*64, 1000) # 7x7 image with 64 channels\n",
    "        self.fc2 = nn.Linear(1000, 100)\n",
    "        self.fc3 = nn.Linear(100, 10)\n",
    "        self.drop = nn.Dropout(dropout)\n",
    "\n",
    "    def forward(self, x):\n",
    "        x = self.pool( F.relu(self.conv1(x)) )\n",
    "        x = self.pool( F.relu(self.conv2(x)) )\n",
    "        x = x.reshape(x.size(0), -1) # Flattening\n",
    "        x = self.drop(x)\n",
    "        x = F.relu( self.fc1(x) )\n",
    "        x = F.relu( self.fc2(x) )\n",
    "        x = self.drop(x)\n",
    "        x = self.fc3(x)\n",
    "        return x\n",
    "    \n",
    "    def train_step(self, train_loader, optimizer, loss_fn, device):\n",
    "        \"\"\"\n",
    "        Train the @self on dataloader @train_loader\n",
    "        \"\"\"\n",
    "        train_loss= []\n",
    "        self.train() # Training mode (e.g. enable dropout)\n",
    "        for sample_batched in train_loader:\n",
    "            # Move data to device\n",
    "            x_batch = sample_batched[0].to(device)\n",
    "            label_batch = sample_batched[1].to(device)\n",
    "            # Forward pass\n",
    "            out = self.forward(x_batch)\n",
    "            # Compute loss \n",
    "            loss = loss_fn(out, label_batch)\n",
    "            # Backpropagation\n",
    "            self.zero_grad()\n",
    "            loss.backward()\n",
    "            # Update the weights\n",
    "            optimizer.step()\n",
    "            # Save train loss for this batch\n",
    "            loss_batch = loss.detach().cpu().numpy()\n",
    "            train_loss.append(loss_batch)\n",
    "        return train_loss\n",
    "    \n",
    "    def validation_step(self, val_loader, loss_fn, device):\n",
    "        \"\"\"\n",
    "        Validate @self on dataloader @val_loader\n",
    "        \"\"\"\n",
    "        val_loss = []\n",
    "        self.eval() # Evaluation mode (e.g. disable dropout)\n",
    "        with torch.no_grad(): # Disable gradient tracking\n",
    "            for sample_batched in val_loader:\n",
    "                # Move data to device\n",
    "                x_batch = sample_batched[0].to(device)\n",
    "                label_batch = sample_batched[1].to(device)\n",
    "                # Forward pass\n",
    "                out = self.forward(x_batch)\n",
    "                # Compute loss\n",
    "                loss = loss_fn(out, label_batch)\n",
    "                # Save val loss for this batch\n",
    "                loss_batch = loss.detach().cpu().numpy()\n",
    "                val_loss.append(loss_batch)\n",
    "        return val_loss\n",
    "    \n",
    "    def fit(self, train_loader, val_loader, optimizer, loss_fn, config):\n",
    "        \"\"\"\n",
    "        Training procedure for @self on the data @dataset\n",
    "        Args:\n",
    "            self (Net)          : Neural network model\n",
    "            train_loader        : Dataloader of train set\n",
    "            val_loader          : Dataloader of validation set\n",
    "            loss_fn             : Torch loss function\n",
    "            optimizer           : Torch optimizer\n",
    "            config (dict)       : Contains all the parameters\n",
    "        \"\"\"\n",
    "        train_loss_log = []\n",
    "        val_loss_log = []\n",
    "        for epoch in tqdm(range( config['num_epochs'])):\n",
    "            ### TRAIN\n",
    "            train_loss = self.train_step(train_dataloader, optimizer, loss_fn,  config['device'])\n",
    "            # Save average train loss\n",
    "            train_loss = np.mean(train_loss)\n",
    "            train_loss_log.append(train_loss)\n",
    "            ### VALIDATION\n",
    "            val_loss = self.validation_step(val_dataloader, loss_fn,  config['device'])\n",
    "            # Save average validation loss\n",
    "            val_loss = np.mean(val_loss)\n",
    "            val_loss_log.append(val_loss)\n",
    "            \n",
    "        return train_loss_log, val_loss_log\n",
    "    \n",
    "    def predict(self, dataloader, device):\n",
    "        self.eval()\n",
    "        predictions = []\n",
    "        with torch.no_grad(): # Disable gradient tracking\n",
    "            for sample_batched in tqdm(dataloader):\n",
    "                # Move data to device\n",
    "                x_batch = sample_batched[0].to(device)\n",
    "                # Forward pass\n",
    "                out = self.forward(x_batch)\n",
    "                out = out.cpu().numpy().argmax()\n",
    "                predictions.append(out)\n",
    "        return np.array( predictions )\n",
    "                \n",
    "        \n",
    "    def test(self, test_loader, device):\n",
    "        \"\"\"\n",
    "            Test @self on dataloader @test_loader and returns accuracy\n",
    "        \"\"\"\n",
    "        wrong = 0\n",
    "        self.eval() # Evaluation mode (e.g. disable dropout)\n",
    "        with torch.no_grad(): # Disable gradient tracking\n",
    "            for sample_batched in tqdm(test_loader):\n",
    "                # Move data to device\n",
    "                x_batch = sample_batched[0].to(device)\n",
    "                label_batch = sample_batched[1][0]\n",
    "                # Forward pass\n",
    "                out = self.forward(x_batch)\n",
    "                out = out.cpu().numpy().argmax()\n",
    "                if out!= label_batch: wrong+=1\n",
    "                # Save val loss for this batch\n",
    "        wrong /= len(test_loader)\n",
    "        return 1-wrong\n",
    "    \n",
    "    def save(self, path):\n",
    "        torch.save(self.state_dict(), path)\n",
    "        \n",
    "    def load(self, path):\n",
    "        self.load_state_dict( torch.load(path) )\n",
    "        \n",
    "    def restart(self):\n",
    "        self.__init__()"
   ]
  },
  {
   "cell_type": "code",
   "execution_count": 3,
   "metadata": {
    "ExecuteTime": {
     "end_time": "2020-11-27T10:35:49.596212Z",
     "start_time": "2020-11-27T10:35:49.586804Z"
    }
   },
   "outputs": [],
   "source": [
    "def Augment(angles=180, gaussian_kernel=5):\n",
    "    rotate = transforms.RandomRotation(angles)\n",
    "    noise = transforms.GaussianBlur(gaussian_kernel)\n",
    "    random_transform = transforms.RandomChoice([rotate, noise])\n",
    "    composed_transform = transforms.Compose( [ random_transform, transforms.ToTensor()] )\n",
    "    return composed_transform\n",
    "\n",
    "def Initial_Transform(mean= (0.1370,), std=(0.3081,) ):\n",
    "    composed_t = transforms.Compose([ transforms.ToTensor(), transforms.Normalize( mean, std) ])\n",
    "    return composed_t"
   ]
  },
  {
   "cell_type": "code",
   "execution_count": 4,
   "metadata": {
    "ExecuteTime": {
     "end_time": "2020-11-27T10:50:44.142091Z",
     "start_time": "2020-11-27T10:50:44.121285Z"
    }
   },
   "outputs": [
    {
     "name": "stdout",
     "output_type": "stream",
     "text": [
      "Training device: cuda\n"
     ]
    }
   ],
   "source": [
    "# Check if the GPU is available\n",
    "device = torch.device(\"cuda\") if torch.cuda.is_available() else torch.device(\"cpu\")\n",
    "print(f\"Training device: {device}\")\n",
    "generated_sample = 10\n",
    "\n",
    "config = {  \"device\"           : [device],\n",
    "            \"dropout\"          : np.random.uniform(0, 0.5, generated_sample),\n",
    "            \"num_epochs\"       : [5, 10, 20],\n",
    "            \"learning_rate\"    : loguniform.rvs(1e-4, 1e-2, size=generated_sample),\n",
    "            \"optimizer\"        : ['sgd', 'adam'],\n",
    "            \"regularization\"   : loguniform.rvs(1e-3, 1e-1, size=generated_sample)\n",
    "         }\n",
    "\n",
    "def sample(config):\n",
    "    sampled = {}\n",
    "    for i in config.keys():\n",
    "        sampled[i] = np.random.choice( config[i] )\n",
    "    return sampled\n",
    "\n",
    "def best_params(params, metric):\n",
    "    last = []\n",
    "    for m in metric:\n",
    "        last.append( m[-1] )\n",
    "    best = params[ np.argmin(last) ]\n",
    "    return best"
   ]
  },
  {
   "cell_type": "markdown",
   "metadata": {},
   "source": [
    "# Random search"
   ]
  },
  {
   "cell_type": "code",
   "execution_count": 5,
   "metadata": {
    "ExecuteTime": {
     "end_time": "2020-11-27T10:35:51.138766Z",
     "start_time": "2020-11-27T10:35:50.891102Z"
    },
    "collapsed": true
   },
   "outputs": [
    {
     "name": "stdout",
     "output_type": "stream",
     "text": [
      "Downloading http://yann.lecun.com/exdb/mnist/train-images-idx3-ubyte.gz to classifier_data\\MNIST\\raw\\train-images-idx3-ubyte.gz\n"
     ]
    },
    {
     "data": {
      "application/vnd.jupyter.widget-view+json": {
       "model_id": "cdfac781a83a4020a73e3c8051d566df",
       "version_major": 2,
       "version_minor": 0
      },
      "text/plain": [
       "HBox(children=(FloatProgress(value=1.0, bar_style='info', max=1.0), HTML(value='')))"
      ]
     },
     "metadata": {},
     "output_type": "display_data"
    },
    {
     "name": "stdout",
     "output_type": "stream",
     "text": [
      "Extracting classifier_data\\MNIST\\raw\\train-images-idx3-ubyte.gz to classifier_data\\MNIST\\raw\n",
      "Downloading http://yann.lecun.com/exdb/mnist/train-labels-idx1-ubyte.gz to classifier_data\\MNIST\\raw\\train-labels-idx1-ubyte.gz\n"
     ]
    },
    {
     "data": {
      "application/vnd.jupyter.widget-view+json": {
       "model_id": "8b64402d099b49b583af6d5c8f0db754",
       "version_major": 2,
       "version_minor": 0
      },
      "text/plain": [
       "HBox(children=(FloatProgress(value=1.0, bar_style='info', max=1.0), HTML(value='')))"
      ]
     },
     "metadata": {},
     "output_type": "display_data"
    },
    {
     "name": "stdout",
     "output_type": "stream",
     "text": [
      "Extracting classifier_data\\MNIST\\raw\\train-labels-idx1-ubyte.gz to classifier_data\\MNIST\\raw\n",
      "Downloading http://yann.lecun.com/exdb/mnist/t10k-images-idx3-ubyte.gz to classifier_data\\MNIST\\raw\\t10k-images-idx3-ubyte.gz\n"
     ]
    },
    {
     "data": {
      "application/vnd.jupyter.widget-view+json": {
       "model_id": "91ba39360aff4cbc89da36be610b00d4",
       "version_major": 2,
       "version_minor": 0
      },
      "text/plain": [
       "HBox(children=(FloatProgress(value=1.0, bar_style='info', max=1.0), HTML(value='')))"
      ]
     },
     "metadata": {},
     "output_type": "display_data"
    },
    {
     "name": "stdout",
     "output_type": "stream",
     "text": [
      "Extracting classifier_data\\MNIST\\raw\\t10k-images-idx3-ubyte.gz to classifier_data\\MNIST\\raw\n",
      "Downloading http://yann.lecun.com/exdb/mnist/t10k-labels-idx1-ubyte.gz to classifier_data\\MNIST\\raw\\t10k-labels-idx1-ubyte.gz\n"
     ]
    },
    {
     "data": {
      "application/vnd.jupyter.widget-view+json": {
       "model_id": "96223ee2639644b78e0e6ef897459e15",
       "version_major": 2,
       "version_minor": 0
      },
      "text/plain": [
       "HBox(children=(FloatProgress(value=1.0, bar_style='info', max=1.0), HTML(value='')))"
      ]
     },
     "metadata": {},
     "output_type": "display_data"
    },
    {
     "name": "stdout",
     "output_type": "stream",
     "text": [
      "Extracting classifier_data\\MNIST\\raw\\t10k-labels-idx1-ubyte.gz to classifier_data\\MNIST\\raw\n",
      "Processing...\n"
     ]
    },
    {
     "name": "stderr",
     "output_type": "stream",
     "text": [
      "C:\\Users\\win10\\anaconda3\\lib\\site-packages\\torchvision\\datasets\\mnist.py:480: UserWarning: The given NumPy array is not writeable, and PyTorch does not support non-writeable tensors. This means you can write to the underlying (supposedly non-writeable) NumPy array using the tensor. You may want to copy the array to protect its data or make it writeable before converting it to a tensor. This type of warning will be suppressed for the rest of this program. (Triggered internally at  ..\\torch\\csrc\\utils\\tensor_numpy.cpp:141.)\n",
      "  return torch.from_numpy(parsed.astype(m[2], copy=False)).view(*s)\n"
     ]
    },
    {
     "name": "stdout",
     "output_type": "stream",
     "text": [
      "Done!\n"
     ]
    }
   ],
   "source": [
    "initial_transform = Initial_Transform()\n",
    "augment = Augment()\n",
    "\n",
    "train_dataset = MNIST('classifier_data', \n",
    "                     train=True, download=True, transform=augment )"
   ]
  },
  {
   "cell_type": "code",
   "execution_count": 6,
   "metadata": {
    "ExecuteTime": {
     "end_time": "2020-11-27T10:35:51.479626Z",
     "start_time": "2020-11-27T10:35:51.454908Z"
    }
   },
   "outputs": [],
   "source": [
    "train_set, val_set = torch.utils.data.random_split(train_dataset, \n",
    "                                                         [50000, 10000])\n",
    "train_dataloader = DataLoader(train_set, batch_size=54, shuffle=True)\n",
    "val_dataloader = DataLoader(val_set, batch_size=54, shuffle=False)"
   ]
  },
  {
   "cell_type": "code",
   "execution_count": 7,
   "metadata": {
    "ExecuteTime": {
     "end_time": "2020-11-27T10:37:36.331457Z",
     "start_time": "2020-11-27T10:37:36.314319Z"
    }
   },
   "outputs": [],
   "source": [
    "def Random_MNIST(config, train_dataloader, val_dataloader, n):\n",
    "    params = []\n",
    "    train_loss_log = []\n",
    "    val_loss_log = []\n",
    "    for i in range(n):\n",
    "        par_t = sample(config)\n",
    "        params.append(par_t)\n",
    "        # Instantiate network\n",
    "        net = Net(dropout=par_t['dropout'] )\n",
    "        net.to(device)\n",
    "        # Loss\n",
    "        loss = nn.CrossEntropyLoss() \n",
    "        # Optimizer\n",
    "        if par_t['optimizer']=='adam':\n",
    "            opt = optim.Adam(net.parameters(), lr=par_t['learning_rate'], \n",
    "                             weight_decay=par_t['regularization'])\n",
    "        elif par_t['optimizer']=='sgd':\n",
    "            opt = optim.SGD(net.parameters(), lr=par_t['learning_rate'], \n",
    "                            momentum=0.9, weight_decay=par_t['regularization'])\n",
    "\n",
    "        train_loss, val_loss = net.fit(train_dataloader, val_dataloader, opt, loss, par_t)\n",
    "        train_loss_log.append( train_loss)\n",
    "        val_loss_log.append( val_loss)\n",
    "        \n",
    "    return params, train_loss_log, val_loss_log"
   ]
  },
  {
   "cell_type": "code",
   "execution_count": null,
   "metadata": {
    "ExecuteTime": {
     "end_time": "2020-11-27T10:48:06.086558Z",
     "start_time": "2020-11-27T10:37:36.567042Z"
    }
   },
   "outputs": [
    {
     "name": "stderr",
     "output_type": "stream",
     "text": [
      "  5%|████▏                                                                              | 1/20 [00:45<14:19, 45.22s/it]"
     ]
    }
   ],
   "source": [
    "params, t_loss, v_loss = Random_MNIST(config, train_dataloader, val_dataloader, 5)"
   ]
  },
  {
   "cell_type": "code",
   "execution_count": 19,
   "metadata": {
    "ExecuteTime": {
     "end_time": "2020-11-27T10:49:57.768014Z",
     "start_time": "2020-11-27T10:49:57.184772Z"
    }
   },
   "outputs": [
    {
     "data": {
      "image/png": "[encoded data removed]",
      "text/plain": [
       "<Figure size 720x432 with 2 Axes>"
      ]
     },
     "metadata": {
      "needs_background": "light"
     },
     "output_type": "display_data"
    }
   ],
   "source": [
    "fig, ax = plt.subplots(1, 2, figsize=(10,6))\n",
    "for i, tra in enumerate(t_loss):\n",
    "    ax[0].plot(tra)\n",
    "ax[0].set_ylabel('loss')\n",
    "ax[0].set_xlabel('Epoch')\n",
    "ax[0].set_title('Training')\n",
    "\n",
    "for i, val in enumerate(v_loss):\n",
    "    ax[1].plot(val)\n",
    "ax[1].set_ylabel('loss')\n",
    "ax[1].set_xlabel('Epoch')\n",
    "ax[1].set_title('Validation')\n",
    "    \n",
    "plt.show()"
   ]
  },
  {
   "cell_type": "code",
   "execution_count": 23,
   "metadata": {
    "ExecuteTime": {
     "end_time": "2020-11-27T10:53:47.288595Z",
     "start_time": "2020-11-27T10:50:55.475439Z"
    },
    "scrolled": false
   },
   "outputs": [
    {
     "name": "stderr",
     "output_type": "stream",
     "text": [
      "\r",
      "  0%|          | 0/5 [00:00<?, ?it/s]"
     ]
    },
    {
     "name": "stdout",
     "output_type": "stream",
     "text": [
      "{'device': device(type='cpu'), 'dropout': 0.29657408125264145, 'num_epochs': 5, 'learning_rate': 0.0058318304188888, 'optimizer': 'sgd', 'regularization': 0.013510247392346691}\n",
      "AVERAGE TRAIN LOSS: 2.2976624965667725\n"
     ]
    },
    {
     "name": "stderr",
     "output_type": "stream",
     "text": [
      "\r",
      " 20%|██        | 1/5 [00:36<02:26, 36.72s/it]"
     ]
    },
    {
     "name": "stdout",
     "output_type": "stream",
     "text": [
      "AVERAGE VAL LOSS: 2.2833192348480225\n"
     ]
    },
    {
     "name": "stderr",
     "output_type": "stream",
     "text": [
      "100%|██████████| 5/5 [02:50<00:00, 34.13s/it]\n"
     ]
    },
    {
     "data": {
      "image/png": "[encoded data removed]",
      "text/plain": [
       "<Figure size 864x576 with 2 Axes>"
      ]
     },
     "metadata": {
      "needs_background": "light"
     },
     "output_type": "display_data"
    }
   ],
   "source": [
    "# Best parameter selection\n",
    "best_par = best_params(params, v_loss)\n",
    "print(best_par)\n",
    "net = Net(dropout=best_par['dropout'] )\n",
    "# Loss\n",
    "loss = nn.CrossEntropyLoss() \n",
    "# Optimizer\n",
    "if best_par['optimizer']=='adam':\n",
    "    opt = optim.Adam(net.parameters(), lr=best_par['learning_rate'], \n",
    "                     weight_decay=best_par['regularization'])\n",
    "elif best_par['optimizer']=='sgd':\n",
    "    opt = optim.SGD(net.parameters(), lr=best_par['learning_rate'], \n",
    "                    momentum=0.9, weight_decay=best_par['regularization'])\n",
    "\n",
    "# Training and validation\n",
    "train_loss, val_loss = net.fit(train_dataloader, val_dataloader, opt, loss, best_par)\n",
    "\n",
    "# Plotsù\n",
    "fig, ax = plt.subplots(1, 2, figsize=(12, 8))\n",
    "ax[0].plot(train_loss, label='train')\n",
    "ax[0].plot(val_loss, label='val')\n",
    "ax[0].set_xlabel('epoch')\n",
    "ax[0].set_ylabel('loss')\n",
    "ax[0].set_title('Linear scale')\n",
    "ax[0].legend()\n",
    "\n",
    "ax[1].plot(train_loss, label='train')\n",
    "ax[1].plot(val_loss, label='val')\n",
    "ax[1].set_xlabel('epoch')\n",
    "ax[1].set_ylabel('loss')\n",
    "ax[1].set_title('Loglog scale')\n",
    "ax[1].legend()\n",
    "ax[1].loglog()\n",
    "\n",
    "plt.show()"
   ]
  },
  {
   "cell_type": "code",
   "execution_count": 24,
   "metadata": {
    "ExecuteTime": {
     "end_time": "2020-11-27T10:54:03.320555Z",
     "start_time": "2020-11-27T10:54:03.123728Z"
    }
   },
   "outputs": [],
   "source": [
    "net.save('best_parameters')"
   ]
  },
  {
   "cell_type": "markdown",
   "metadata": {},
   "source": [
    "# Testing performances"
   ]
  },
  {
   "cell_type": "code",
   "execution_count": 26,
   "metadata": {
    "ExecuteTime": {
     "end_time": "2020-11-27T10:54:23.839208Z",
     "start_time": "2020-11-27T10:54:23.805507Z"
    }
   },
   "outputs": [],
   "source": [
    "best_par = {'device': device, 'dropout': 0.29657408125264145, \n",
    "            'num_epochs': 5, 'learning_rate': 0.0058318304188888, 'optimizer': 'sgd', \n",
    "            'regularization': 0.013510247392346691}\n",
    "\n",
    "net = Net(dropout=best_par['dropout'])"
   ]
  },
  {
   "cell_type": "code",
   "execution_count": 27,
   "metadata": {
    "ExecuteTime": {
     "end_time": "2020-11-27T10:54:24.443477Z",
     "start_time": "2020-11-27T10:54:24.418342Z"
    }
   },
   "outputs": [],
   "source": [
    "net.load('best_parameters')"
   ]
  },
  {
   "cell_type": "code",
   "execution_count": 28,
   "metadata": {
    "ExecuteTime": {
     "end_time": "2020-11-27T10:57:43.861282Z",
     "start_time": "2020-11-27T10:57:29.620596Z"
    }
   },
   "outputs": [
    {
     "name": "stderr",
     "output_type": "stream",
     "text": [
      "100%|██████████| 1000/1000 [00:14<00:00, 70.60it/s]\n"
     ]
    }
   ],
   "source": [
    "test_dataset  = MNIST('classifier_data', \n",
    "                     train=False, download=True, transform=initial_transform )\n",
    "\n",
    "test_load = DataLoader(test_dataset, batch_size=10, shuffle=False)\n",
    "accuracy = net.test(test_load, best_par['device'])"
   ]
  },
  {
   "cell_type": "code",
   "execution_count": 29,
   "metadata": {
    "ExecuteTime": {
     "end_time": "2020-11-27T10:57:55.879824Z",
     "start_time": "2020-11-27T10:57:55.873148Z"
    }
   },
   "outputs": [
    {
     "name": "stdout",
     "output_type": "stream",
     "text": [
      "Accuracy on test set: 0.122\n"
     ]
    }
   ],
   "source": [
    "print('Accuracy on test set:', accuracy)"
   ]
  },
  {
   "cell_type": "code",
   "execution_count": null,
   "metadata": {},
   "outputs": [],
   "source": []
  }
 ],
 "metadata": {
  "kernelspec": {
   "display_name": "Python 3",
   "language": "python",
   "name": "python3"
  },
  "language_info": {
   "codemirror_mode": {
    "name": "ipython",
    "version": 3
   },
   "file_extension": ".py",
   "mimetype": "text/x-python",
   "name": "python",
   "nbconvert_exporter": "python",
   "pygments_lexer": "ipython3",
   "version": "3.8.3"
  },
  "latex_envs": {
   "LaTeX_envs_menu_present": true,
   "autoclose": false,
   "autocomplete": true,
   "bibliofile": "biblio.bib",
   "cite_by": "apalike",
   "current_citInitial": 1,
   "eqLabelWithNumbers": true,
   "eqNumInitial": 1,
   "hotkeys": {
    "equation": "Ctrl-E",
    "itemize": "Ctrl-I"
   },
   "labels_anchors": false,
   "latex_user_defs": false,
   "report_style_numbering": false,
   "user_envs_cfg": false
  },
  "toc": {
   "base_numbering": 1,
   "nav_menu": {},
   "number_sections": true,
   "sideBar": true,
   "skip_h1_title": false,
   "title_cell": "Table of Contents",
   "title_sidebar": "Contents",
   "toc_cell": false,
   "toc_position": {},
   "toc_section_display": true,
   "toc_window_display": false
  }
 },
 "nbformat": 4,
 "nbformat_minor": 4
}
